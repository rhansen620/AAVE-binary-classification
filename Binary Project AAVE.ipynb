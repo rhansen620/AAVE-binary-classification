{
 "cells": [
  {
   "cell_type": "markdown",
   "id": "cc49b151",
   "metadata": {
    "id": "cc49b151"
   },
   "source": [
    "Binary Categorization: Create a machine to detect between \"Standard\" English and AAVE"
   ]
  },
  {
   "cell_type": "markdown",
   "id": "3d88c313",
   "metadata": {
    "id": "3d88c313"
   },
   "source": [
    "Imports"
   ]
  },
  {
   "cell_type": "code",
   "execution_count": 1,
   "id": "3384d803",
   "metadata": {
    "id": "3384d803"
   },
   "outputs": [],
   "source": [
    "from typing import Iterator, Iterable, Tuple, Text, Union\n",
    "\n",
    "import numpy as np\n",
    "from sklearn.model_selection import train_test_split\n",
    "from scipy.sparse import spmatrix\n",
    "from sklearn.feature_extraction.text import CountVectorizer\n",
    "from sklearn import preprocessing\n",
    "import sklearn.linear_model as lm\n",
    "from sklearn.linear_model import LogisticRegression\n",
    "from sklearn.metrics import confusion_matrix\n",
    "from sklearn.preprocessing import StandardScaler\n",
    "from sklearn.metrics import accuracy_score, precision_score, recall_score\n",
    "from sklearn.metrics import accuracy_score\n",
    "from sklearn.metrics import classification_report\n",
    "import matplotlib.pyplot as plt\n",
    "import seaborn as sns\n",
    "#import pandas as pd\n",
    "\n",
    "NDArray = Union[np.ndarray, spmatrix]\n",
    "#print (\"happy\")"
   ]
  },
  {
   "cell_type": "markdown",
   "id": "e3a3b33e",
   "metadata": {},
   "source": [
    "Open data file, create tuples of (label,text) and lists of texts/labels"
   ]
  },
  {
   "cell_type": "code",
   "execution_count": 27,
   "id": "113067ee",
   "metadata": {
    "id": "113067ee"
   },
   "outputs": [],
   "source": [
    "detectlanguage = open(\"aave_train.txt\",encoding=\"utf16\") \n",
    "bm = [] #the tuples\n",
    "texts = [] #list of text\n",
    "labels = [] #list of labels\n",
    "for line in detectlanguage:\n",
    "    eachline = line.split(\"\\t\", 1) #create list with label, text\n",
    "    label = eachline[0] #pull the label\n",
    "    text = eachline[1] #pull the text\n",
    "\n",
    "    stripline = text.strip() #remove white space if nccessary\n",
    "\n",
    "    r =([label, stripline.rstrip(\"\\n\")]) #create tuple and remove new line markers\n",
    "\n",
    "    bm.append(r)\n",
    "    labels.append(label)\n",
    "    texts.append(stripline)\n"
   ]
  },
  {
   "cell_type": "markdown",
   "id": "ab41ae80",
   "metadata": {
    "id": "ab41ae80"
   },
   "source": [
    "convert text to features"
   ]
  },
  {
   "cell_type": "code",
   "execution_count": 28,
   "id": "cc7282de",
   "metadata": {
    "id": "cc7282de",
    "outputId": "d81898dd-3da5-4cf9-93bc-80b9bbcd8367"
   },
   "outputs": [
    {
     "data": {
      "text/plain": [
       "<3021x1052 sparse matrix of type '<class 'numpy.int64'>'\n",
       "\twith 46731 stored elements in Compressed Sparse Row format>"
      ]
     },
     "execution_count": 28,
     "metadata": {},
     "output_type": "execute_result"
    }
   ],
   "source": [
    "vectorizer = CountVectorizer(ngram_range=(1, 2), min_df=10, max_df=.8)    \n",
    "vectorizer.fit_transform(texts)"
   ]
  },
  {
   "cell_type": "markdown",
   "id": "e080c155",
   "metadata": {
    "id": "e080c155"
   },
   "source": [
    "Get the index of the feature - do not run unless you put your own feature in there!!!!!!!"
   ]
  },
  {
   "cell_type": "code",
   "execution_count": 29,
   "id": "40d220bc",
   "metadata": {
    "id": "40d220bc"
   },
   "outputs": [],
   "source": [
    "vectorizer.vocabulary_.get('putthefeaturenamehere')"
   ]
  },
  {
   "cell_type": "markdown",
   "id": "1bec1b29",
   "metadata": {
    "id": "1bec1b29"
   },
   "source": [
    "Turn those features into a matrix!!"
   ]
  },
  {
   "cell_type": "code",
   "execution_count": 30,
   "id": "034376de",
   "metadata": {
    "id": "034376de",
    "outputId": "e300a67a-4b10-4bf2-c2c5-fae5f1c9f386",
    "scrolled": true
   },
   "outputs": [
    {
     "name": "stdout",
     "output_type": "stream",
     "text": [
      "(3021, 1052)\n"
     ]
    }
   ],
   "source": [
    "features = vectorizer.transform(texts).toarray()\n",
    "print (features.shape)"
   ]
  },
  {
   "cell_type": "markdown",
   "id": "6286d60c",
   "metadata": {
    "id": "6286d60c"
   },
   "source": [
    "texts --> labels init"
   ]
  },
  {
   "cell_type": "code",
   "execution_count": 31,
   "id": "f69e191b",
   "metadata": {
    "id": "f69e191b",
    "outputId": "624fdbfa-40d1-4b2c-a7a0-243738288578"
   },
   "outputs": [
    {
     "data": {
      "text/plain": [
       "LabelEncoder()"
      ]
     },
     "execution_count": 31,
     "metadata": {},
     "output_type": "execute_result"
    }
   ],
   "source": [
    "le = preprocessing.LabelEncoder()\n",
    "le.fit(labels)"
   ]
  },
  {
   "cell_type": "markdown",
   "id": "f6fd7ee9",
   "metadata": {
    "id": "f6fd7ee9"
   },
   "source": [
    "What are the labels?"
   ]
  },
  {
   "cell_type": "code",
   "execution_count": 32,
   "id": "28986f96",
   "metadata": {
    "id": "28986f96",
    "outputId": "48cd9f50-883d-4cf0-8df3-e3dc90a0bb57"
   },
   "outputs": [
    {
     "data": {
      "text/plain": [
       "['AAVE', 'SAE']"
      ]
     },
     "execution_count": 32,
     "metadata": {},
     "output_type": "execute_result"
    }
   ],
   "source": [
    "list(le.classes_)"
   ]
  },
  {
   "cell_type": "markdown",
   "id": "064319bc",
   "metadata": {
    "id": "064319bc"
   },
   "source": [
    "Index of specific label"
   ]
  },
  {
   "cell_type": "code",
   "execution_count": 33,
   "id": "5926e6b5",
   "metadata": {
    "id": "5926e6b5",
    "outputId": "5a4c11de-a3f1-4058-ad19-11a52517247b"
   },
   "outputs": [
    {
     "data": {
      "text/plain": [
       "1"
      ]
     },
     "execution_count": 33,
     "metadata": {},
     "output_type": "execute_result"
    }
   ],
   "source": [
    "le.transform(labels)[0]"
   ]
  },
  {
   "cell_type": "markdown",
   "id": "8a944c54",
   "metadata": {
    "id": "8a944c54"
   },
   "source": [
    "Creates a label vector"
   ]
  },
  {
   "cell_type": "code",
   "execution_count": 34,
   "id": "f51ff941",
   "metadata": {
    "id": "f51ff941"
   },
   "outputs": [],
   "source": [
    "label2 = le.transform(labels)"
   ]
  },
  {
   "cell_type": "markdown",
   "id": "910cbe73",
   "metadata": {
    "id": "910cbe73"
   },
   "source": [
    "Start the Logistic Regression"
   ]
  },
  {
   "cell_type": "code",
   "execution_count": 35,
   "id": "776e5569",
   "metadata": {
    "id": "776e5569"
   },
   "outputs": [],
   "source": [
    "logreg = LogisticRegression(fit_intercept= True,class_weight= {0:3,1:9}, random_state = 0)"
   ]
  },
  {
   "cell_type": "markdown",
   "id": "15851c44",
   "metadata": {
    "id": "15851c44"
   },
   "source": [
    "Train, baby, train!"
   ]
  },
  {
   "cell_type": "code",
   "execution_count": 36,
   "id": "8246c4f9",
   "metadata": {
    "id": "8246c4f9",
    "outputId": "8b283030-225a-4087-9810-be0c8d634b9c",
    "scrolled": true
   },
   "outputs": [
    {
     "name": "stderr",
     "output_type": "stream",
     "text": [
      "/usr/local/lib/python3.8/dist-packages/sklearn/linear_model/_logistic.py:814: ConvergenceWarning: lbfgs failed to converge (status=1):\n",
      "STOP: TOTAL NO. of ITERATIONS REACHED LIMIT.\n",
      "\n",
      "Increase the number of iterations (max_iter) or scale the data as shown in:\n",
      "    https://scikit-learn.org/stable/modules/preprocessing.html\n",
      "Please also refer to the documentation for alternative solver options:\n",
      "    https://scikit-learn.org/stable/modules/linear_model.html#logistic-regression\n",
      "  n_iter_i = _check_optimize_result(\n"
     ]
    },
    {
     "data": {
      "text/plain": [
       "LogisticRegression(class_weight={0: 3, 1: 9}, random_state=0)"
      ]
     },
     "execution_count": 36,
     "metadata": {},
     "output_type": "execute_result"
    }
   ],
   "source": [
    "logreg.fit(features, label2, sample_weight=None)"
   ]
  },
  {
   "cell_type": "markdown",
   "id": "ea282b06",
   "metadata": {
    "id": "ea282b06"
   },
   "source": [
    "Evaluating the Training"
   ]
  },
  {
   "cell_type": "code",
   "execution_count": 37,
   "id": "615a03e1",
   "metadata": {
    "id": "615a03e1",
    "outputId": "9c457376-9c38-4b3c-a119-6c8b45ad6ed7"
   },
   "outputs": [
    {
     "name": "stdout",
     "output_type": "stream",
     "text": [
      "The Accuracy for Training Set is 86.85865607414763\n"
     ]
    }
   ],
   "source": [
    "train_acc = logreg.score(features, label2)\n",
    "print(\"The Accuracy for Training Set is {}\".format(train_acc*100))"
   ]
  },
  {
   "cell_type": "markdown",
   "id": "6fe6aaba",
   "metadata": {
    "id": "6fe6aaba"
   },
   "source": [
    "Preprocess the data for the prediction (test)"
   ]
  },
  {
   "cell_type": "code",
   "execution_count": 43,
   "id": "a3fa5418",
   "metadata": {
    "id": "a3fa5418",
    "outputId": "1522bb82-9e45-4969-b7e5-f6aed59a26e5"
   },
   "outputs": [
    {
     "name": "stdout",
     "output_type": "stream",
     "text": [
      "['SAE', 'AAVE', 'AAVE', 'SAE', 'SAE', 'SAE', 'AAVE', 'AAVE', 'AAVE', 'AAVE', 'AAVE', 'SAE', 'SAE', 'SAE', 'AAVE', 'SAE', 'SAE', 'SAE', 'SAE', 'AAVE', 'SAE', 'AAVE', 'SAE', 'AAVE', 'SAE', 'SAE', 'SAE', 'SAE', 'SAE', 'AAVE', 'AAVE', 'SAE', 'AAVE', 'SAE', 'SAE', 'SAE', 'AAVE', 'SAE', 'AAVE', 'SAE', 'AAVE', 'SAE', 'SAE', 'AAVE', 'SAE', 'AAVE', 'AAVE', 'AAVE', 'AAVE', 'SAE', 'AAVE', 'AAVE', 'SAE', 'AAVE', 'AAVE', 'AAVE', 'AAVE', 'AAVE', 'AAVE', 'AAVE', 'AAVE', 'SAE', 'AAVE', 'SAE', 'SAE', 'SAE', 'AAVE', 'SAE', 'AAVE', 'SAE', 'AAVE', 'SAE', 'AAVE', 'AAVE', 'SAE', 'SAE', 'SAE', 'SAE', 'AAVE', 'AAVE', 'AAVE', 'SAE', 'SAE', 'SAE', 'SAE', 'SAE', 'SAE', 'AAVE', 'SAE', 'AAVE', 'AAVE', 'AAVE', 'SAE', 'AAVE', 'AAVE', 'SAE', 'AAVE', 'AAVE', 'SAE', 'AAVE', 'SAE', 'SAE', 'SAE', 'SAE', 'SAE', 'SAE', 'SAE', 'AAVE', 'SAE', 'SAE', 'SAE', 'SAE', 'SAE', 'SAE', 'AAVE', 'AAVE', 'AAVE', 'SAE', 'AAVE', 'AAVE', 'SAE', 'AAVE', 'SAE', 'SAE', 'SAE', 'AAVE', 'SAE', 'SAE', 'SAE', 'SAE', 'SAE', 'SAE', 'AAVE', 'AAVE', 'SAE', 'SAE', 'SAE', 'SAE', 'SAE', 'AAVE', 'SAE', 'AAVE', 'SAE', 'AAVE', 'SAE', 'SAE', 'SAE', 'SAE', 'AAVE', 'AAVE', 'AAVE', 'SAE', 'SAE', 'AAVE', 'AAVE', 'AAVE', 'SAE', 'AAVE', 'AAVE', 'SAE', 'AAVE', 'AAVE', 'AAVE', 'SAE', 'AAVE', 'SAE', 'AAVE', 'AAVE', 'SAE', 'AAVE', 'AAVE', 'AAVE', 'SAE', 'AAVE', 'AAVE', 'SAE', 'SAE', 'AAVE', 'SAE', 'SAE', 'AAVE', 'AAVE', 'SAE', 'AAVE', 'AAVE', 'SAE', 'SAE', 'AAVE', 'SAE', 'AAVE', 'AAVE', 'AAVE', 'AAVE', 'AAVE', 'AAVE', 'SAE', 'SAE', 'SAE', 'AAVE', 'SAE', 'AAVE', 'SAE', 'SAE', 'SAE', 'AAVE', 'AAVE', 'SAE', 'AAVE', 'SAE', 'AAVE', 'AAVE', 'SAE', 'AAVE', 'SAE', 'SAE', 'AAVE', 'SAE', 'AAVE', 'SAE', 'SAE', 'SAE', 'AAVE', 'SAE', 'AAVE', 'AAVE', 'SAE', 'AAVE', 'SAE', 'SAE', 'SAE', 'SAE', 'SAE', 'AAVE', 'AAVE', 'AAVE', 'AAVE', 'SAE', 'AAVE', 'AAVE', 'SAE', 'SAE', 'AAVE', 'SAE', 'AAVE', 'SAE', 'SAE', 'SAE', 'SAE', 'SAE', 'AAVE', 'AAVE', 'SAE', 'SAE', 'AAVE', 'AAVE', 'SAE', 'AAVE', 'AAVE', 'SAE', 'SAE', 'SAE', 'SAE', 'SAE', 'SAE', 'AAVE', 'AAVE', 'AAVE', 'AAVE', 'SAE', 'AAVE', 'AAVE', 'AAVE', 'AAVE', 'AAVE', 'SAE', 'SAE', 'SAE', 'SAE', 'SAE', 'SAE', 'SAE', 'SAE', 'AAVE', 'AAVE', 'SAE', 'SAE', 'AAVE', 'SAE', 'SAE', 'SAE', 'AAVE', 'SAE', 'SAE', 'SAE', 'SAE', 'SAE', 'SAE', 'SAE', 'SAE', 'SAE', 'AAVE', 'SAE', 'AAVE', 'SAE', 'SAE', 'AAVE', 'AAVE', 'AAVE', 'SAE', 'AAVE', 'AAVE', 'SAE', 'SAE', 'AAVE', 'SAE', 'SAE', 'SAE', 'SAE', 'SAE', 'SAE', 'AAVE', 'AAVE', 'SAE', 'SAE', 'AAVE', 'AAVE', 'SAE', 'SAE', 'AAVE', 'AAVE', 'SAE', 'SAE', 'AAVE', 'SAE', 'AAVE', 'SAE', 'SAE', 'AAVE', 'SAE', 'AAVE', 'AAVE', 'SAE', 'SAE', 'AAVE', 'SAE', 'SAE', 'AAVE', 'SAE', 'AAVE', 'SAE', 'SAE', 'SAE', 'AAVE', 'SAE', 'SAE', 'SAE', 'AAVE', 'AAVE', 'SAE', 'AAVE', 'SAE', 'SAE', 'SAE', 'SAE', 'SAE', 'AAVE', 'AAVE', 'AAVE', 'SAE', 'AAVE', 'SAE', 'SAE', 'SAE', 'SAE', 'AAVE', 'SAE', 'AAVE', 'AAVE', 'SAE', 'AAVE', 'AAVE', 'AAVE', 'AAVE', 'AAVE', 'SAE', 'AAVE', 'SAE', 'SAE', 'SAE', 'AAVE', 'SAE', 'AAVE', 'AAVE', 'SAE', 'AAVE', 'AAVE', 'AAVE', 'SAE', 'SAE', 'AAVE', 'AAVE', 'AAVE', 'AAVE', 'SAE', 'SAE', 'SAE', 'SAE', 'AAVE', 'SAE', 'AAVE', 'SAE', 'AAVE', 'AAVE', 'SAE', 'SAE', 'AAVE', 'SAE', 'SAE', 'SAE', 'SAE', 'SAE', 'SAE', 'SAE', 'SAE', 'SAE', 'SAE', 'AAVE', 'AAVE', 'SAE', 'AAVE', 'SAE', 'SAE', 'AAVE', 'SAE', 'SAE', 'AAVE', 'SAE', 'AAVE', 'AAVE', 'AAVE', 'AAVE', 'AAVE', 'SAE', 'AAVE', 'SAE', 'AAVE', 'AAVE', 'AAVE', 'SAE', 'AAVE', 'SAE', 'AAVE', 'AAVE', 'AAVE', 'SAE', 'SAE', 'SAE', 'AAVE', 'SAE', 'SAE', 'AAVE', 'AAVE', 'AAVE', 'SAE', 'SAE', 'SAE', 'SAE', 'AAVE', 'AAVE', 'AAVE', 'AAVE', 'SAE', 'SAE', 'AAVE', 'AAVE', 'AAVE', 'SAE', 'SAE', 'SAE', 'AAVE', 'AAVE', 'AAVE', 'AAVE', 'SAE', 'SAE', 'SAE', 'SAE', 'AAVE', 'SAE', 'AAVE', 'SAE', 'AAVE', 'AAVE', 'AAVE', 'SAE', 'AAVE', 'AAVE', 'SAE', 'AAVE', 'SAE', 'AAVE', 'AAVE', 'SAE', 'AAVE', 'SAE', 'AAVE', 'AAVE', 'AAVE', 'AAVE', 'SAE', 'AAVE', 'SAE', 'AAVE', 'AAVE', 'AAVE', 'AAVE', 'AAVE', 'SAE', 'SAE', 'AAVE', 'AAVE', 'AAVE', 'AAVE', 'AAVE', 'SAE', 'SAE', 'SAE', 'AAVE', 'AAVE', 'SAE', 'AAVE', 'SAE', 'AAVE', 'AAVE', 'SAE', 'SAE', 'SAE', 'SAE', 'AAVE', 'AAVE', 'AAVE', 'SAE', 'AAVE', 'AAVE', 'SAE', 'SAE', 'AAVE', 'AAVE', 'SAE', 'AAVE', 'AAVE', 'SAE', 'AAVE', 'AAVE', 'AAVE', 'AAVE', 'AAVE', 'AAVE', 'AAVE', 'AAVE', 'AAVE', 'SAE', 'AAVE', 'AAVE', 'SAE', 'AAVE', 'AAVE', 'SAE', 'AAVE', 'SAE', 'SAE', 'SAE', 'SAE', 'SAE', 'SAE', 'SAE', 'AAVE', 'SAE', 'AAVE', 'AAVE', 'AAVE', 'AAVE', 'SAE', 'SAE', 'AAVE', 'SAE', 'SAE', 'SAE', 'SAE', 'AAVE', 'AAVE', 'AAVE', 'AAVE', 'SAE', 'AAVE', 'AAVE', 'AAVE', 'SAE', 'AAVE', 'AAVE', 'AAVE', 'AAVE', 'AAVE', 'AAVE', 'AAVE', 'AAVE', 'SAE', 'AAVE', 'AAVE', 'AAVE', 'AAVE', 'SAE', 'AAVE', 'SAE', 'AAVE', 'SAE', 'AAVE', 'SAE', 'AAVE', 'AAVE', 'AAVE', 'SAE', 'AAVE', 'AAVE', 'SAE', 'AAVE', 'AAVE', 'AAVE', 'SAE', 'AAVE', 'AAVE', 'AAVE', 'SAE', 'SAE', 'SAE', 'AAVE', 'AAVE', 'SAE', 'AAVE', 'AAVE', 'AAVE', 'SAE', 'AAVE', 'SAE', 'SAE', 'AAVE', 'AAVE', 'AAVE', 'SAE', 'AAVE', 'SAE', 'AAVE', 'AAVE', 'AAVE', 'AAVE', 'AAVE', 'SAE', 'AAVE', 'SAE', 'SAE', 'AAVE', 'SAE', 'SAE', 'SAE', 'AAVE', 'SAE', 'AAVE', 'SAE', 'SAE', 'SAE', 'AAVE', 'AAVE', 'SAE', 'SAE', 'AAVE', 'SAE', 'SAE', 'SAE', 'SAE', 'SAE', 'AAVE', 'AAVE', 'AAVE', 'SAE', 'AAVE', 'AAVE', 'SAE', 'SAE', 'SAE', 'SAE', 'SAE', 'SAE', 'SAE', 'AAVE', 'AAVE', 'AAVE', 'AAVE', 'SAE', 'SAE', 'AAVE', 'SAE', 'SAE', 'AAVE', 'SAE', 'AAVE', 'SAE', 'SAE', 'AAVE', 'SAE', 'AAVE', 'AAVE', 'AAVE', 'AAVE', 'SAE', 'SAE', 'AAVE', 'SAE', 'SAE', 'SAE', 'AAVE', 'AAVE', 'SAE', 'AAVE', 'SAE', 'SAE', 'AAVE', 'SAE', 'SAE', 'SAE', 'AAVE', 'AAVE', 'AAVE', 'SAE', 'AAVE', 'SAE', 'SAE', 'SAE', 'AAVE', 'SAE', 'SAE', 'SAE', 'SAE', 'AAVE', 'SAE', 'AAVE', 'SAE', 'AAVE', 'AAVE', 'SAE', 'SAE', 'SAE', 'SAE', 'SAE', 'AAVE', 'SAE', 'AAVE', 'AAVE', 'AAVE', 'AAVE', 'AAVE', 'AAVE', 'SAE', 'AAVE', 'SAE', 'AAVE', 'AAVE', 'AAVE', 'AAVE', 'AAVE', 'SAE', 'AAVE', 'SAE', 'AAVE', 'AAVE', 'SAE', 'AAVE', 'SAE', 'AAVE', 'AAVE', 'SAE', 'AAVE', 'SAE', 'AAVE', 'AAVE', 'SAE', 'SAE', 'SAE', 'AAVE', 'AAVE', 'AAVE', 'SAE', 'SAE', 'AAVE', 'AAVE', 'AAVE', 'SAE', 'SAE', 'SAE', 'SAE', 'AAVE', 'SAE', 'AAVE', 'SAE', 'SAE', 'SAE', 'AAVE', 'SAE', 'AAVE', 'AAVE', 'AAVE', 'SAE', 'SAE', 'AAVE', 'SAE', 'SAE', 'AAVE', 'SAE', 'SAE', 'AAVE', 'AAVE', 'SAE', 'AAVE', 'AAVE', 'SAE', 'AAVE', 'AAVE', 'AAVE', 'SAE', 'SAE', 'AAVE', 'AAVE', 'AAVE', 'AAVE', 'SAE', 'AAVE', 'SAE', 'SAE', 'AAVE', 'AAVE', 'SAE', 'SAE', 'AAVE', 'SAE', 'AAVE', 'AAVE', 'AAVE', 'SAE', 'SAE', 'AAVE', 'AAVE', 'AAVE', 'SAE', 'SAE', 'SAE', 'SAE', 'SAE', 'SAE', 'SAE', 'SAE', 'AAVE', 'SAE', 'SAE', 'SAE', 'AAVE', 'AAVE', 'AAVE', 'SAE', 'SAE', 'AAVE', 'AAVE', 'SAE', 'SAE', 'AAVE', 'AAVE', 'SAE', 'SAE', 'AAVE', 'SAE', 'SAE', 'SAE', 'SAE', 'AAVE', 'AAVE', 'AAVE', 'AAVE', 'AAVE', 'AAVE', 'SAE', 'AAVE', 'SAE', 'AAVE', 'AAVE', 'AAVE', 'AAVE', 'SAE', 'SAE', 'SAE', 'AAVE', 'SAE', 'AAVE', 'AAVE', 'AAVE', 'AAVE', 'AAVE', 'AAVE', 'AAVE', 'AAVE', 'SAE', 'AAVE', 'AAVE', 'AAVE', 'AAVE', 'SAE', 'SAE', 'SAE', 'SAE', 'SAE', 'AAVE', 'AAVE', 'SAE', 'SAE', 'SAE', 'AAVE', 'AAVE', 'AAVE', 'SAE', 'AAVE', 'SAE', 'SAE', 'SAE', 'SAE', 'AAVE', 'AAVE', 'AAVE', 'AAVE', 'SAE', 'SAE', 'AAVE', 'SAE', 'SAE', 'SAE', 'SAE', 'AAVE', 'AAVE', 'AAVE', 'AAVE', 'SAE', 'SAE', 'SAE', 'AAVE', 'SAE', 'SAE', 'AAVE', 'AAVE', 'AAVE', 'SAE', 'SAE', 'SAE', 'AAVE', 'AAVE', 'AAVE', 'SAE', 'AAVE', 'AAVE', 'SAE', 'SAE', 'SAE', 'AAVE', 'SAE', 'AAVE', 'AAVE', 'AAVE', 'AAVE', 'AAVE', 'AAVE', 'SAE', 'AAVE', 'SAE', 'AAVE', 'SAE', 'SAE', 'SAE', 'SAE', 'AAVE', 'SAE', 'SAE', 'AAVE', 'SAE', 'AAVE', 'SAE', 'SAE', 'SAE', 'AAVE', 'AAVE', 'SAE', 'AAVE', 'AAVE', 'AAVE', 'AAVE', 'AAVE', 'SAE', 'SAE', 'SAE', 'AAVE', 'AAVE', 'SAE', 'AAVE', 'SAE', 'AAVE', 'AAVE', 'SAE', 'AAVE', 'SAE', 'AAVE', 'AAVE', 'SAE', 'SAE']\n"
     ]
    }
   ],
   "source": [
    "detectlanguage = open(\"aave_test.txt\",encoding=\"utf16\") \n",
    "texts1 = []\n",
    "labelsone = []\n",
    "for line in detectlanguage:\n",
    "    eachline = line.split(\"\\t\", 1)\n",
    "    label = eachline[0]\n",
    "    text = eachline[1]\n",
    "    stripline = text.strip()\n",
    "    funtext = stripline.rstrip(\"\\n\")\n",
    "    texts1.append(funtext)\n",
    "    labelsone.append(label)\n",
    "print (labelsone)"
   ]
  },
  {
   "cell_type": "markdown",
   "id": "11472013",
   "metadata": {
    "id": "11472013"
   },
   "source": [
    "create label vector for these"
   ]
  },
  {
   "cell_type": "code",
   "execution_count": 44,
   "id": "a80b34f1",
   "metadata": {
    "id": "a80b34f1"
   },
   "outputs": [],
   "source": [
    "labels1 = le.transform(labelsone)"
   ]
  },
  {
   "cell_type": "code",
   "execution_count": 45,
   "id": "49fda3aa",
   "metadata": {
    "id": "49fda3aa",
    "outputId": "2912fbad-4b09-4f01-fe2d-83685ad1c42f"
   },
   "outputs": [
    {
     "name": "stdout",
     "output_type": "stream",
     "text": [
      "(1017, 1052)\n"
     ]
    }
   ],
   "source": [
    "features1 = vectorizer.transform(texts1).toarray()\n",
    "print (features1.shape)"
   ]
  },
  {
   "cell_type": "markdown",
   "id": "74722289",
   "metadata": {
    "id": "74722289"
   },
   "source": [
    "predict"
   ]
  },
  {
   "cell_type": "code",
   "execution_count": 46,
   "id": "a8bb7746",
   "metadata": {
    "id": "a8bb7746",
    "outputId": "8ebf0f61-afe6-4299-b765-292419cfae9f"
   },
   "outputs": [
    {
     "name": "stdout",
     "output_type": "stream",
     "text": [
      "[0 1 0 ... 0 1 1]\n"
     ]
    }
   ],
   "source": [
    "predictions = logreg.predict(features1)\n",
    "print (predictions)"
   ]
  },
  {
   "cell_type": "markdown",
   "id": "a6e605e4",
   "metadata": {
    "id": "a6e605e4"
   },
   "source": [
    "Confusion Matrix"
   ]
  },
  {
   "cell_type": "code",
   "execution_count": 47,
   "id": "a45293ad",
   "metadata": {
    "id": "a45293ad"
   },
   "outputs": [],
   "source": [
    "cm = confusion_matrix(labels1, predictions)"
   ]
  },
  {
   "cell_type": "code",
   "execution_count": 48,
   "id": "5d258f96",
   "metadata": {
    "id": "5d258f96"
   },
   "outputs": [],
   "source": [
    "TN, FP, FN, TP = confusion_matrix(labels1, predictions).ravel()"
   ]
  },
  {
   "cell_type": "code",
   "execution_count": 49,
   "id": "d3ca92d6",
   "metadata": {
    "id": "d3ca92d6",
    "outputId": "cff6e2dd-723e-471f-f716-efc8d4d8c0a6"
   },
   "outputs": [
    {
     "name": "stdout",
     "output_type": "stream",
     "text": [
      "True Positive(TP)  =  412\n",
      "False Positive(FP) =  203\n",
      "True Negative(TN)  =  306\n",
      "False Negative(FN) =  96\n"
     ]
    }
   ],
   "source": [
    "print('True Positive(TP)  = ', TP)\n",
    "print('False Positive(FP) = ', FP)\n",
    "print('True Negative(TN)  = ', TN)\n",
    "print('False Negative(FN) = ', FN)"
   ]
  },
  {
   "cell_type": "code",
   "execution_count": 50,
   "id": "21a9585b",
   "metadata": {
    "id": "21a9585b",
    "outputId": "a58adc02-6107-4864-c81f-07a47a2f1f02"
   },
   "outputs": [
    {
     "data": {
      "image/png": "[encoded data removed]",
      "text/plain": [
       "<Figure size 864x432 with 2 Axes>"
      ]
     },
     "metadata": {
      "needs_background": "light"
     },
     "output_type": "display_data"
    }
   ],
   "source": [
    "plt.figure(figsize=(12,6))\n",
    "plt.title(\"Confusion Matrix\")\n",
    "sns.heatmap(cm, annot=True,fmt='d', cmap='Blues')\n",
    "plt.ylabel(\"Actual Values\")\n",
    "plt.xlabel(\"Predicted Values\")\n",
    "plt.savefig('confusion_matrix.png')"
   ]
  },
  {
   "cell_type": "code",
   "execution_count": 51,
   "id": "6039cd80",
   "metadata": {
    "id": "6039cd80",
    "outputId": "fdb099eb-f965-4e20-9fe8-b3e0319a3557"
   },
   "outputs": [
    {
     "name": "stdout",
     "output_type": "stream",
     "text": [
      "Accuracy of the binary classification = 0.706\n"
     ]
    }
   ],
   "source": [
    "accuracy =  (TP+TN) /(TP+FP+TN+FN)\n",
    "print('Accuracy of the binary classification = {:0.3f}'.format(accuracy))"
   ]
  },
  {
   "cell_type": "markdown",
   "id": "2efcf249",
   "metadata": {
    "id": "2efcf249"
   },
   "source": [
    "More Evaluations"
   ]
  },
  {
   "cell_type": "code",
   "execution_count": 52,
   "id": "571d07b3",
   "metadata": {
    "id": "571d07b3"
   },
   "outputs": [],
   "source": [
    "test_acc = accuracy_score(labels1, predictions)"
   ]
  },
  {
   "cell_type": "code",
   "execution_count": 53,
   "id": "62fc6c1a",
   "metadata": {
    "id": "62fc6c1a",
    "outputId": "6cf62088-ce17-4df7-8845-73d0911b3f2f"
   },
   "outputs": [
    {
     "name": "stdout",
     "output_type": "stream",
     "text": [
      "The Accuracy for Test Set is 70.59980334316617\n"
     ]
    }
   ],
   "source": [
    "print(\"The Accuracy for Test Set is {}\".format(test_acc*100))"
   ]
  },
  {
   "cell_type": "code",
   "execution_count": 54,
   "id": "cfc7c61b",
   "metadata": {
    "id": "cfc7c61b",
    "outputId": "b7660ad1-97dd-44cb-c43f-bafa2a6cb022"
   },
   "outputs": [
    {
     "name": "stdout",
     "output_type": "stream",
     "text": [
      "              precision    recall  f1-score   support\n",
      "\n",
      "           0       0.76      0.60      0.67       509\n",
      "           1       0.67      0.81      0.73       508\n",
      "\n",
      "    accuracy                           0.71      1017\n",
      "   macro avg       0.72      0.71      0.70      1017\n",
      "weighted avg       0.72      0.71      0.70      1017\n",
      "\n"
     ]
    }
   ],
   "source": [
    "print(classification_report(labels1, predictions))"
   ]
  }
 ],
 "metadata": {
  "colab": {
   "name": "Binary Project.ipynb",
   "provenance": []
  },
  "kernelspec": {
   "display_name": "Python 3 (ipykernel)",
   "language": "python",
   "name": "python3"
  },
  "language_info": {
   "codemirror_mode": {
    "name": "ipython",
    "version": 3
   },
   "file_extension": ".py",
   "mimetype": "text/x-python",
   "name": "python",
   "nbconvert_exporter": "python",
   "pygments_lexer": "ipython3",
   "version": "3.8.10"
  }
 },
 "nbformat": 4,
 "nbformat_minor": 5
}
